{
  "nbformat": 4,
  "nbformat_minor": 0,
  "metadata": {
    "colab": {
      "provenance": []
    },
    "kernelspec": {
      "name": "python3",
      "display_name": "Python 3"
    },
    "language_info": {
      "name": "python"
    }
  },
  "cells": [
    {
      "cell_type": "code",
      "execution_count": null,
      "metadata": {
        "colab": {
          "base_uri": "https://localhost:8080/"
        },
        "id": "fGfi_1paPyaa",
        "outputId": "9cf86040-9305-46de-d670-684ff0ff5a00"
      },
      "outputs": [
        {
          "output_type": "stream",
          "name": "stdout",
          "text": [
            "Req1: 334.62 ohm\n",
            "Resultados teóricos:\n",
            "Corriente principal: 35.86 mA\n",
            "Voltaje en R1: 5.38 V\n",
            "Voltaje en R2: 2.65 V\n",
            "Voltaje en R3: 3.97 V\n",
            "Voltaje en R4: 11.20 V\n",
            "Voltaje en R5: 16.20 V\n",
            "Potencia total: 0.43 W\n"
          ]
        }
      ],
      "source": [
        "# Valores de componentes\n",
        "R1 = 150  # ohms\n",
        "R2 = 220  # ohms\n",
        "R3 = 330  # ohms\n",
        "R4 = 470  # ohms\n",
        "R5 = 680  # ohms\n",
        "Vcc = 12  # volts\n",
        "\n",
        "# Cálculo de resistencia equivalente del paralelo R4-R5\n",
        "R45_parallel = (R4 * R5) / (R4 + R5)\n",
        "\n",
        "# Resistencia total del circuito\n",
        "R_total = R1 + ((R2 + R3) * R45_parallel) / (R2 + R3 + R45_parallel)\n",
        "\n",
        "# Corriente principal\n",
        "I_main = Vcc / R_total\n",
        "\n",
        "# Voltajes en cada resistencia\n",
        "V_R1 = I_main * R1\n",
        "V_R23_parallel = Vcc - V_R1\n",
        "\n",
        "# Corriente a través de R2-R3\n",
        "I_R23 = V_R23_parallel / (R2 + R3)\n",
        "\n",
        "# Corriente a través de R4-R5\n",
        "I_R45 = V_R23_parallel / (R4 + R5)\n",
        "\n",
        "# Voltajes individuales\n",
        "V_R2 = I_R23 * R2\n",
        "V_R3 = I_R23 * R3\n",
        "V_R4 = I_R45 * R4\n",
        "V_R5 = I_R45 * R5\n",
        "\n",
        "# Potencia total entregada por la fuente\n",
        "P_total = Vcc * I_main\n",
        "\n",
        "# Resultados\n",
        "print(f\"Req1: {R_total:.2f} ohm\")\n",
        "print(f\"Resultados teóricos:\")\n",
        "print(f\"Corriente principal: {I_main*1000:.2f} mA\")\n",
        "print(f\"Voltaje en R1: {V_R1:.2f} V\")\n",
        "print(f\"Voltaje en R2: {V_R2:.2f} V\")\n",
        "print(f\"Voltaje en R3: {V_R3:.2f} V\")\n",
        "print(f\"Voltaje en R4: {V_R4:.2f} V\")\n",
        "print(f\"Voltaje en R5: {V_R5:.2f} V\")\n",
        "print(f\"Potencia total: {P_total:.2f} W\")\n"
      ]
    }
  ]
}